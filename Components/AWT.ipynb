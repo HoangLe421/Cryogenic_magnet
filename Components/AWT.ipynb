{
 "cells": [
  {
   "cell_type": "code",
   "execution_count": 3,
   "metadata": {},
   "outputs": [],
   "source": [
    "%matplotlib notebook\n",
    "import numpy as np\n",
    "import time\n",
    "import ipywidgets as widgets\n",
    "import matplotlib.pyplot as plt"
   ]
  },
  {
   "cell_type": "code",
   "execution_count": 2,
   "metadata": {},
   "outputs": [],
   "source": [
    "import os\n",
    "import gc\n",
    "import sys\n",
    "srcpath = os.path.realpath('./../SourceFiles')\n",
    "sys.path.append(srcpath)\n",
    "#from teproteus import TEProteusAdmin, TEProteusInst\n",
    "from tevisainst import TEVisaInst\n",
    "from teproteus import TEProteusAdmin as TepAdmin\n",
    "from teproteus import TEProteusInst as TepInst\n",
    "from pulse_sequence import EPR_pulse"
   ]
  },
  {
   "cell_type": "code",
   "execution_count": null,
   "metadata": {},
   "outputs": [],
   "source": [
    "# Connect to the instrument\n",
    "\n",
    "# Please choose appropriate address:\n",
    "inst_addr = 'TCPIP::169.254.18.140::5025::SOCKET'\n",
    "\n",
    "print('Connecting ..')\n",
    "inst = pyte.open_session(inst_addr)\n",
    "resp = inst.query(\"*IDN?\")\n",
    "print('Connected to: ' + resp)\n",
    "\n",
    "# The paranoia-level is either \n",
    "# low (0), normal (1) or debug (2)\n",
    "paranoia_level = 2\n",
    "\n",
    "print ('Reset instrument ..')\n",
    "\n",
    "# Reset the instrument\n",
    "pyte.send_cmd(inst, '*CLS; *RST', paranoia_level)\n",
    "\n",
    "print('Done')"
   ]
  },
  {
   "cell_type": "code",
   "execution_count": null,
   "metadata": {},
   "outputs": [],
   "source": [
    "# Define the pulse sequence\n",
    "srcpath = os.path.realpath('../../SourceFiles')\n",
    "sys.path.append(srcpath)\n",
    "from pulse_sequence import EPR_pulse\n",
    "p = EPR_pulse(sampling_rate=2.5e9,Vpp=1)  \n",
    "\n",
    "steps = [\n",
    "    ('Square', 1e-9, {'amplitude': 1 ,'phase': 'x','f_c':0}),\n",
    "    ('delay', 10e-6),\n",
    "    ('Square', 10e-6, {'amplitude': 0.5 ,'phase': 'x','f_c':0}),\n",
    "    ('delay', 10e-6),\n",
    "    ('gaussian', 20e-6, {'amplitude': 0.5, 'phase': '-x','f_c':.51e6}),\n",
    "    ('delay', 10e-6),\n",
    "]\n",
    "\n",
    "t_seq, y_seq = p.pulse_sequence(steps)\n",
    "dig_y = p.DAC_output(y_seq) \n"
   ]
  },
  {
   "cell_type": "code",
   "execution_count": null,
   "metadata": {},
   "outputs": [],
   "source": [
    "# Download waveform to the AWT\n",
    "# Download segments\n",
    "ichan = 0\n",
    "channb = ichan + 1\n",
    "segnum = ichan % 2 + 1\n",
    "wav = dig_y\n",
    "seglen = len(wav)\n",
    "print('Download wave to segment {0} of channel {1}'.format(segnum, channb))\n",
    "\n",
    "# Select channel\n",
    "cmd = ':INST:CHAN {0}'.format(channb)\n",
    "inst.send_scpi_cmd(cmd)\n",
    "\n",
    "# Define segment\n",
    "cmd = ':TRAC:DEF {0}, {1}'.format(segnum, seglen)\n",
    "inst.send_scpi_cmd(cmd)\n",
    "\n",
    "# Select the segment\n",
    "cmd = ':TRAC:SEL {0}'.format(segnum)\n",
    "inst.send_scpi_cmd(cmd)\n",
    "    \n",
    "# Send the binary-data:\n",
    "inst.write_binary_data(':TRAC:DATA', wav)\n",
    "    \n",
    "resp = inst.send_scpi_query(':SYST:ERR?')\n",
    "resp = resp.rstrip()\n",
    "if not resp.startswith('0'):\n",
    "    print('ERROR: \"{0}\" after writing binary values'.format(resp))\n",
    "\n",
    "# Play the specified segment at the selected channel:\n",
    "cmd = ':SOUR:FUNC:MODE:SEGM {0}'.format(segnum)\n",
    "inst.send_scpi_cmd(cmd)\n",
    "\n",
    "# Turn on the output of the selected channel:\n",
    "inst.send_scpi_cmd(':OUTP ON')\n",
    "\n",
    "resp = inst.send_scpi_query(':SYST:ERR?')\n",
    "print(resp)\n",
    "\n",
    "print()\n",
    "\n",
    "resp = inst.send_scpi_query(':SYST:ERR?')\n",
    "print(resp)\n",
    "\n",
    "del dig_y\n",
    "del wav"
   ]
  }
 ],
 "metadata": {
  "kernelspec": {
   "display_name": "AWT-env",
   "language": "python",
   "name": "python3"
  },
  "language_info": {
   "codemirror_mode": {
    "name": "ipython",
    "version": 3
   },
   "file_extension": ".py",
   "mimetype": "text/x-python",
   "name": "python",
   "nbconvert_exporter": "python",
   "pygments_lexer": "ipython3",
   "version": "3.13.2"
  }
 },
 "nbformat": 4,
 "nbformat_minor": 2
}
